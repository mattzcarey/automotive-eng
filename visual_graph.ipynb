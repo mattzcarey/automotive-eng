{
  "nbformat": 4,
  "nbformat_minor": 0,
  "metadata": {
    "colab": {
      "name": "visual-graph.ipynb",
      "provenance": [],
      "collapsed_sections": [],
      "authorship_tag": "ABX9TyOufG04+adJt17AIY16jseG",
      "include_colab_link": true
    },
    "kernelspec": {
      "name": "python3",
      "display_name": "Python 3"
    },
    "language_info": {
      "name": "python"
    }
  },
  "cells": [
    {
      "cell_type": "markdown",
      "metadata": {
        "id": "view-in-github",
        "colab_type": "text"
      },
      "source": [
        "<a href=\"https://colab.research.google.com/github/mattzcarey/automotive-eng/blob/main/visual_graph.ipynb\" target=\"_parent\"><img src=\"https://colab.research.google.com/assets/colab-badge.svg\" alt=\"Open In Colab\"/></a>"
      ]
    },
    {
      "cell_type": "code",
      "source": [
        "#some functions\n",
        "import numpy as np\n",
        "import math\n",
        "\n",
        "def generate_semicircle(centre_x, centre_y, radius, stepsize=0.1):  \n",
        "\n",
        "    x = np.arange(centre_x, centre_x+radius+stepsize, stepsize)\n",
        "    y = np.sqrt(np.abs(radius**2 - (x - centre_x)**2))\n",
        "\n",
        "    # since each x value has two corresponding y-values, duplicate x-axis.\n",
        "    # [::-1] is required to have the correct order of elements for plt.plot. \n",
        "    x = np.concatenate([x,x[::-1]])\n",
        "\n",
        "    # concatenate y and flipped y. \n",
        "    y = np.concatenate([y,-y[::-1]])\n",
        "\n",
        "    return x, y + centre_y\n"
      ],
      "metadata": {
        "id": "B77VQ_YEyLrr"
      },
      "execution_count": 30,
      "outputs": []
    },
    {
      "cell_type": "code",
      "execution_count": 31,
      "metadata": {
        "id": "0FBeQmFKtHuM"
      },
      "outputs": [],
      "source": [
        "def genCors():\n",
        "\n",
        "  #gen coordinates starting at first corner.\n",
        "  y = []\n",
        "  x = []\n",
        "\n",
        "  #1 = accel, 2 = decell, 3 = steady state\n",
        "  s = []\n",
        "\n",
        "  #circle1\n",
        "  xc1, yc1 = generate_semicircle(500, 0, 50, 1)\n",
        "\n",
        "  sc1 = np.full_like(xc1, 3)\n",
        "\n",
        "  x = np.append(x,xc1)\n",
        "  y = np.append(y,yc1)\n",
        "  s = np.append(s, sc1)\n",
        "\n",
        "  #straight 1\n",
        "  m2 = -25/500\n",
        "  s1change = 76.4602210071385\n",
        "\n",
        "  xl2 = list(range(0, 501,1))\n",
        "  sc2 = np.full_like(xl2, 1)\n",
        "  sc2[0:xl2.index(math.ceil(s1change))] = 2\n",
        "\n",
        "  xl2.reverse()\n",
        "  sc2 = np.flipud(sc2)\n",
        "\n",
        "  yl2 = [(i*m2)-25 for i in xl2]\n",
        "\n",
        "  x = np.append(x, xl2)\n",
        "  y= np.append(y, yl2)\n",
        "  s = np.append(s, sc2)\n",
        "\n",
        "  #circle 2\n",
        "  xc2, yc2 = generate_semicircle(0, 0, 25, 1)\n",
        "  sc3 = np.full_like(xc2, 3)\n",
        "\n",
        "  x = np.append(x, (xc2*-1))\n",
        "  y = np.append(y, np.flipud(yc2))\n",
        "  s = np.append(s, sc3)\n",
        "\n",
        "\n",
        "  #straight 2\n",
        "  m1 = 25/500\n",
        "  s4change = 440.1916060346269\n",
        "\n",
        "  xl1 = list(range(0, 501,1))\n",
        "  yl1 = [(i*m1)+25 for i in xl1]\n",
        "  sc4 = np.full_like(xl1, 2)\n",
        "  sc4[0:xl1.index(math.ceil(s4change))] = 1\n",
        "\n",
        "  x = np.append(x, xl1)\n",
        "  y = np.append(y, yl1)\n",
        "  s = np.append(s, sc4)\n",
        "\n",
        "  return x,y,s\n"
      ]
    },
    {
      "cell_type": "code",
      "source": [
        "#plot x and y\n",
        "import matplotlib.pyplot as plt\n",
        "import pandas as pd\n",
        "from matplotlib.colors import ListedColormap, BoundaryNorm\n",
        "from matplotlib.collections import LineCollection\n",
        "\n",
        "x,y,s = genCors()\n",
        "\n",
        "points = np.array([x, y]).T.reshape(-1, 1, 2)\n",
        "segments = np.concatenate([points[:-1], points[1:]], axis=1)\n",
        "\n",
        "cmap = ListedColormap(['r', 'g', 'b'])\n",
        "norm = BoundaryNorm([0, 1.5, 2.5, 3], cmap.N)\n",
        "\n",
        "lc = LineCollection(segments, cmap=cmap, norm=norm, linewidths=2)\n",
        "lc.set_array(s)\n",
        "fig, ax = plt.subplots()\n",
        "ax.add_collection(lc)\n",
        "\n",
        "ax.autoscale()\n",
        "ax.axis(\"equal\")\n",
        "plt.show()"
      ],
      "metadata": {
        "colab": {
          "base_uri": "https://localhost:8080/",
          "height": 266
        },
        "id": "KlIs_9Eyv_BC",
        "outputId": "a22b63f8-553d-4f27-e7c4-032821174cb3"
      },
      "execution_count": 32,
      "outputs": [
        {
          "output_type": "display_data",
          "data": {
            "image/png": "[encoded data removed]",
            "text/plain": [
              "<Figure size 432x288 with 1 Axes>"
            ]
          },
          "metadata": {
            "needs_background": "light"
          }
        }
      ]
    },
    {
      "cell_type": "code",
      "source": [
        ""
      ],
      "metadata": {
        "id": "Ea3QCBRWQLXG"
      },
      "execution_count": 32,
      "outputs": []
    }
  ]
}