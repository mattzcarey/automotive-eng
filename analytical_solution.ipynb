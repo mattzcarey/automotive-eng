{
  "nbformat": 4,
  "nbformat_minor": 0,
  "metadata": {
    "colab": {
      "name": "analytical-solution.ipynb",
      "provenance": [],
      "collapsed_sections": [],
      "authorship_tag": "ABX9TyPiPwr9zbzgI+Ke5sw5XIzO"
    },
    "kernelspec": {
      "name": "python3",
      "display_name": "Python 3"
    },
    "language_info": {
      "name": "python"
    }
  },
  "cells": [
    {
      "cell_type": "markdown",
      "source": [
        "Part 1 \\\\\n",
        "a) Speed-time graph 0-140mph \\\\\n",
        "b) Speed-time graph 140-0mph \\\\\n",
        "\n",
        "Assume:  \n",
        "1. Worst case hCOG = h/2; wCoG = w/2\n",
        "2. Maximum braking force = to max before tire slip."
      ],
      "metadata": {
        "id": "_ZqFrUHso4gW"
      }
    },
    {
      "cell_type": "markdown",
      "source": [
        "Notes\n",
        "1. Rotational inerta: notes https://ieeexplore.ieee.org/document/6389231\n",
        "2. further notes, use time step\n",
        "3. Engine efficiency for energy \n",
        "4. Present equations of motion\n",
        "5. can put small amount of code in report\n",
        "\n",
        "\n",
        "step wise in time or in speed?\n",
        "discuss this....\n",
        "timesheet?\n",
        "\n",
        "standing laps start at 0\n",
        "flying laps start moving\n",
        "assume centre of gravity of corners\n",
        "do some hand calculations\n",
        "\n",
        "can have some break out stuff on brake heating. dont spend too long.\n",
        "\n",
        "power check?"
      ],
      "metadata": {
        "id": "556kgoxqr223"
      }
    },
    {
      "cell_type": "code",
      "source": [
        "import numpy as np\n",
        "import math\n",
        "\n",
        "#physical constants\n",
        "mass = 1000 #kg\n",
        "g = 9.81\n",
        "rho = 1.2 #kg/m^3 (air density)\n",
        "\n",
        "#car constants\n",
        "dragCoeff = 0.3\n",
        "liftDrag = 3\n",
        "liftCoeff = 0.3 * 3\n",
        "width = 1.8\n",
        "height = 0.8\n",
        "frontA = width * height #m^2\n",
        "wheelRad = 0.3 #m\n",
        "#dynWheelRad = 0.3 * 0.98 #slight compression under motion\n",
        "uRoll = 0.01\n",
        "uSlide = 1.7\n",
        "k = 250000 #N/m\n",
        "\n",
        "#engine constants\n",
        "maxP = 240 #kW \n",
        "maxEngT = 250 #Nm\n",
        "maxEngSpeed = 25000 #rpm\n",
        "\n",
        "#Transmission constants\n",
        "G = 10 #gear ratio\n",
        "transEffic = 0.92\n",
        "motorEffic = 0.9\n",
        "km = 1.1 #from notes\n",
        "regEffic = 0.85"
      ],
      "metadata": {
        "id": "LViAd5KWwyVn"
      },
      "execution_count": 48,
      "outputs": []
    },
    {
      "cell_type": "code",
      "source": [
        "#changeable values for simulations\n",
        "#velocity in mph\n",
        "vLow = 0\n",
        "vHigh = 140\n",
        "\n",
        "#resolutions for iterations\n",
        "res = 0.1"
      ],
      "metadata": {
        "id": "7pv2aaFO8nkT"
      },
      "execution_count": 49,
      "outputs": []
    },
    {
      "cell_type": "code",
      "source": [
        "#helpful functions\n",
        "\n",
        "def mphToMps(mph):\n",
        "  mps = mph / 2.237\n",
        "  return mps\n",
        "\n",
        "def mpsToMph(mps):\n",
        "  mph = mps * 2.237\n",
        "  return mph\n",
        "\n",
        "def calculateAeroDrag(v):\n",
        "  aeroDrag = []\n",
        "  for x in v:\n",
        "    aeroDrag.append(0.5 * rho * dragCoeff * frontA * x * x)\n",
        "  \n",
        "  return aeroDrag\n",
        "\n",
        "def calculateRollingResistance(v):\n",
        "  rollRes = []\n",
        "  for x in v:\n",
        "    rollRes.append(((mass * g) + (0.5 *rho * frontA * liftCoeff * x * x))* uRoll)\n",
        "\n",
        "  return rollRes\n",
        "\n",
        "def calculateEngT(v):\n",
        "  engT = []\n",
        "  engSpeed = []\n",
        "  for x in v:\n",
        "    speed = (x * 60 * G) / (2 * math.pi * wheelRad)\n",
        "    engSpeed.append(speed)\n",
        "    engT.append(maxEngT-((speed * maxEngT) / maxEngSpeed))\n",
        "\n",
        "  return engT, engSpeed\n",
        "\n",
        "def calculateMotiveForce(engT):\n",
        "  motiveF = []\n",
        "  for T in engT:\n",
        "    wheelT = G * transEffic * T\n",
        "    motiveF.append(wheelT / wheelRad)\n",
        "  \n",
        "  return motiveF\n",
        "\n",
        "def checkMaxTraction(motiveF):\n",
        "  #define check values\n",
        "  maxTraction = mass * g * uSlide\n",
        "  frictionCheck = False\n",
        "  #perform check\n",
        "  if (max(motiveF) > maxTraction):\n",
        "    frictionCheck = True\n",
        "\n",
        "  return frictionCheck, maxTraction\n"
      ],
      "metadata": {
        "id": "3TjvDW8kw5IH"
      },
      "execution_count": 50,
      "outputs": []
    },
    {
      "cell_type": "code",
      "execution_count": 51,
      "metadata": {
        "id": "4C1g5oLNyMAc"
      },
      "outputs": [],
      "source": [
        "#Acceleration\n",
        "def calculateAccel(vStart, vEnd):\n",
        "\n",
        "  if (vStart > vEnd):\n",
        "    print('Starting velocity is larger than end velocity. Try decceleration or change velocities')\n",
        "    return\n",
        "\n",
        "  #speed array\n",
        "  accV = np.arange(round(mphToMps(vStart)*100), round(mphToMps(vEnd)*100), 3)/100\n",
        "\n",
        "  #drag forces\n",
        "  aeroDragA = calculateAeroDrag(accV) #returns array containing aeroDrag at each value of v\n",
        "  rollResA = calculateRollingResistance(accV)\n",
        "\n",
        "  #motive forces\n",
        "  engT, engSpeed = calculateEngT(accV)\n",
        "  motiveF = calculateMotiveForce(engT)\n",
        "\n",
        "  #check max traction\n",
        "  check, value = checkMaxTraction(motiveF)\n",
        "  if (check == True):\n",
        "    print('Warning: car will slip, model invalid')\n",
        "\n",
        "  #calculating accelerations\n",
        "  a = np.subtract(np.subtract(motiveF, aeroDragA), rollResA) / (mass * km) \n",
        "\n",
        "  #calculating time values\n",
        "  tStp = np.array([(accV[0]-mphToMps(vStart))/a[0]])\n",
        "  \n",
        "  for i in range(1,len(accV)):\n",
        "    tStp = np.append(tStp,(accV[i] - accV[i-1])/a[i])\n",
        "\n",
        "  ta = np.cumsum(tStp)\n",
        "  lastTimeA = ta[-1]\n",
        "\n",
        "  #calculating distances\n",
        "  distA = np.cumsum(np.multiply(tStp, accV))\n",
        "  lastDist = distA[-1]\n",
        "\n",
        "  #convert back to mph\n",
        "  vAMph = mpsToMph(accV)\n",
        "\n",
        "  #print(f'Time from {vStart} to {vEnd} mph: {round(lastTimeA,2)} seconds. Distance: {round(lastDist,2)}m')\n",
        "\n",
        "  return vAMph, ta, distA, motiveF\n",
        "\n",
        "vAMph, ta, distA, motiveF = calculateAccel(vLow,vHigh)\n"
      ]
    },
    {
      "cell_type": "code",
      "source": [
        "#Decceleration\n",
        "def calculateDeccel(vStart, vEnd):\n",
        "\n",
        "  if (vStart < vEnd):\n",
        "    print('End velocity is larger than start velocity. Try acceleration or change velocities')\n",
        "    return\n",
        "\n",
        "  #speed array\n",
        "  arr = np.array(range(round(mphToMps(vEnd)*100), round(mphToMps(vStart)*100), 3))/100\n",
        "  decV = np.flipud(arr)\n",
        "\n",
        "  #drag forces\n",
        "  aeroDragD = calculateAeroDrag(decV)\n",
        "  rollResD = calculateRollingResistance(decV)\n",
        "\n",
        "  #motive forces equal to 0\n",
        "  #assume braking force is equal to max tractional force\n",
        "  check, maxTraction = checkMaxTraction([-1,-1])\n",
        "\n",
        "  #calculating decclerations\n",
        "  d = (np.subtract(np.subtract([0]*len(aeroDragD),aeroDragD),rollResD) - maxTraction) / (mass * km) \n",
        "\n",
        "  #calculating time values\n",
        "  tStp = np.array([(mphToMps(vStart)-decV[0])/d[0]])\n",
        "\n",
        "  for i in range(1,len(decV)):\n",
        "    tStp = np.append(tStp,(decV[i] - decV[i-1])/d[i])\n",
        "\n",
        "  td = np.cumsum(tStp)\n",
        "  lastTimeD = td[-1]\n",
        "\n",
        "  #calculating distances\n",
        "  distD = np.cumsum(np.multiply(tStp, decV))\n",
        "  lastDist = distD[-1]\n",
        "\n",
        "  #convert back to mph\n",
        "  vDMph = mpsToMph(decV)\n",
        "\n",
        "  #print(f'Time from {vStart} to {vEnd} mph: {round(lastTimeD,2)} seconds. Distance: {round(lastDist,2)}m')\n",
        "\n",
        "  return vDMph, td, distD\n",
        "\n",
        "vDMph, td, distD = calculateDeccel(vHigh, vLow)\n"
      ],
      "metadata": {
        "id": "hd3DIc9vudia"
      },
      "execution_count": 52,
      "outputs": []
    },
    {
      "cell_type": "code",
      "source": [
        "import matplotlib.pyplot as plt\n",
        "\n",
        "fig, ax = plt.subplots()\n",
        "ax.plot(ta, vAMph)\n",
        "#ax.plot(ta, distA)\n",
        "ax.plot(td, vDMph)\n",
        "#ax.plot(td, distD)\n",
        "plt.show()"
      ],
      "metadata": {
        "colab": {
          "base_uri": "https://localhost:8080/",
          "height": 265
        },
        "id": "YSPn4JEwBX4B",
        "outputId": "2a44eeaa-e0e9-4697-a415-f4d2be97be37"
      },
      "execution_count": 53,
      "outputs": [
        {
          "output_type": "display_data",
          "data": {
            "image/png": "[encoded data removed]",
            "text/plain": [
              "<Figure size 432x288 with 1 Axes>"
            ]
          },
          "metadata": {
            "needs_background": "light"
          }
        }
      ]
    },
    {
      "cell_type": "markdown",
      "source": [
        "Checking out maximum cornering speeds."
      ],
      "metadata": {
        "id": "BVIHbO2aI6vu"
      }
    },
    {
      "cell_type": "code",
      "source": [
        "def calculateMaxCornerSpeed(cornerRad):\n",
        "  maxV = math.sqrt(cornerRad * g * uSlide)\n",
        "  #maxVMph = mpsToMph(maxV)\n",
        "\n",
        "  return maxV\n",
        "\n",
        "print(mpsToMph(calculateMaxCornerSpeed(50)))\n",
        "print(mpsToMph(calculateMaxCornerSpeed(25)))\n",
        "\n",
        "def calculateMotiveFCorner(v, cornerRad):\n",
        "  cornerResF = (mass * mass * (v ** 4)) / (cornerRad * cornerRad * k)\n",
        "  aeroDrag = 0.5 * rho * dragCoeff * frontA * v * v\n",
        "  rollingRes = ((mass * g) + (0.5 *rho * frontA * liftCoeff * v * v))* uRoll\n",
        "  cornerF = aeroDrag + rollingRes + cornerResF\n",
        "\n",
        "  return cornerF\n",
        "\n",
        "def checkRollover(cornerR):\n",
        "  rollV = math.sqrt((cornerR * g * (width/2))/(height/2))\n",
        "\n",
        "  return rollV\n",
        "\n",
        "print(mpsToMph(checkRollover(50)))\n",
        "print(mpsToMph(checkRollover(25)))"
      ],
      "metadata": {
        "colab": {
          "base_uri": "https://localhost:8080/"
        },
        "id": "03lQgL7ZI58J",
        "outputId": "c8f51896-920c-4b20-9ca8-9b322a9fe458"
      },
      "execution_count": 54,
      "outputs": [
        {
          "output_type": "stream",
          "name": "stdout",
          "text": [
            "64.59664326147296\n",
            "45.676724492075834\n",
            "74.31504566791976\n",
            "52.54867273597403\n"
          ]
        }
      ]
    },
    {
      "cell_type": "markdown",
      "source": [
        "Split Track into:\n",
        "\n",
        "1. Corner 1 (50m radius)\n",
        "2. Straight 1\n",
        "3. Corner 2 (25m radius)\n",
        "4. Straight 2\n"
      ],
      "metadata": {
        "id": "2kFez2XWTczq"
      }
    },
    {
      "cell_type": "code",
      "source": [
        "straightDist = math.sqrt((25*25) + (500*500))\n",
        "print(straightDist)\n",
        "\n",
        "#more calulations needed to investigate max power limitations\n",
        "def detMaxPower(vMax):\n",
        "  v = mphToMps(vMax)\n",
        "\n",
        "  #finding maxEng speed and associated torque\n",
        "  engS = (v * 60 * G) / (2 * math.pi * wheelRad)\n",
        "  engT = maxEngT-((engS * maxEngT) / maxEngSpeed)\n",
        "\n",
        "  predP = (engS * engT* 2* math.pi)/(1000 *60)\n",
        "\n",
        "  if (predP > maxP):\n",
        "    print('Simulation exceeding max engine power!!!')\n",
        "\n",
        "  return predP\n",
        "\n",
        "print(detMaxPower(120))\n",
        "              "
      ],
      "metadata": {
        "colab": {
          "base_uri": "https://localhost:8080/"
        },
        "id": "Onggp4flT9K5",
        "outputId": "478eabc3-6145-4eca-b7fd-2b03f441fe0b"
      },
      "execution_count": 60,
      "outputs": [
        {
          "output_type": "stream",
          "name": "stdout",
          "text": [
            "500.62460986251966\n",
            "141.70435617138526\n"
          ]
        }
      ]
    },
    {
      "cell_type": "code",
      "source": [
        "def fastestLap():\n",
        "  #calculating time for steady state laps starting from corner 1\n",
        "  t = 0\n",
        "  #corner 1\n",
        "  t += (math.pi * 50) / calculateMaxCornerSpeed(50)\n",
        "\n",
        "  #straight 1\n",
        "  #initial guess\n",
        "  vMid = 65\n",
        "  distA = [0,0]\n",
        "  distD = [0,0]\n",
        "\n",
        "  while distA[-1] + distD[-1] <= straightDist:\n",
        "    vAMph, ta, distA, motiveF = calculateAccel(mpsToMph(calculateMaxCornerSpeed(50)),vMid)\n",
        "    vDMph, td, distD = calculateDeccel(vMid, mpsToMph(calculateMaxCornerSpeed(25)))\n",
        "\n",
        "    #increment vMid\n",
        "    vMid += res\n",
        "\n",
        "  #add times\n",
        "  t += ta[-1]\n",
        "  t += td[-1]\n",
        "\n",
        "  #corner 2\n",
        "  t += (math.pi * 25) / calculateMaxCornerSpeed(25)\n",
        "\n",
        "  #straight 2\n",
        "  #initial guess\n",
        "  vMid2 = 65\n",
        "  distA2 = [0,0]\n",
        "  distD2 = [0,0]\n",
        "\n",
        "  while distA2[-1] + distD2[-1] <= straightDist:\n",
        "    vAMph2, ta2, distA2, motiveF2 = calculateAccel(mpsToMph(calculateMaxCornerSpeed(25)),vMid2)\n",
        "    vDMph2, td2, distD2 = calculateDeccel(vMid2, mpsToMph(calculateMaxCornerSpeed(50)))\n",
        "\n",
        "    #increment vMid2\n",
        "    vMid2 += res\n",
        "\n",
        "  #add times\n",
        "  t += ta2[-1]\n",
        "  t += td2[-1]\n",
        "\n",
        "  print(f's1 xcor: {500 - distA[-1]}')\n",
        "  print(f's2 xcor: {distA2[-1]}')\n",
        "  print(f'Fastest lap: {round(t,3)} seconds')\n",
        "  print(f'vMid: {vMid}, vMid2: {vMid2}')\n",
        "\n",
        "  #get distance steps instead of cumsum\n",
        "  distA[1:] -= distA[:-1].copy()\n",
        "  distA2[1:] -= distA2[:-1].copy()\n",
        "  distD[1:] -= distD[:-1].copy()\n",
        "  distD2[1:] -= distD2[:-1].copy()\n",
        "\n",
        "  #work done = f x ^d\n",
        "  #accelleration\n",
        "  aWd = np.sum(np.multiply(motiveF, distA)) + np.sum(np.multiply(motiveF2, distA2))\n",
        "  #corners\n",
        "  cornerWd = (calculateMotiveFCorner(calculateMaxCornerSpeed(50), 50)* math.pi * 50) + (calculateMotiveFCorner(calculateMaxCornerSpeed(25), 25)* math.pi * 25)\n",
        "  #for deceleration (power recleaimed)\n",
        "  regWd = np.sum((mass * g * uSlide) * distD) + np.sum((mass * g * uSlide) * distD2)\n",
        "  \n",
        "  motorWd = ((aWd + cornerWd)/motorEffic) - (regWd * regEffic)\n",
        "  energyUse = motorWd / (1000 * 3600)\n",
        "\n",
        "  print(f'Lap energy: {round(energyUse,2)}kWh')\n",
        "\n",
        "  return t, vMid, vMid2, energyUse\n",
        "\n",
        "fastestLap()\n"
      ],
      "metadata": {
        "id": "OW9KvFE6UXBP",
        "colab": {
          "base_uri": "https://localhost:8080/"
        },
        "outputId": "740e3594-456d-42c5-e937-64a059c5da78"
      },
      "execution_count": 56,
      "outputs": [
        {
          "output_type": "stream",
          "name": "stdout",
          "text": [
            "s1 xcor: 76.4602210071385\n",
            "s2 xcor: 440.1916060346269\n",
            "Fastest lap: 33.744 seconds\n",
            "vMid: 120.29999999999686, vMid2: 118.49999999999696\n",
            "Lap energy: 0.46kWh\n"
          ]
        },
        {
          "output_type": "execute_result",
          "data": {
            "text/plain": [
              "(33.74426039565697, 120.29999999999686, 118.49999999999696, 0.4619584541547696)"
            ]
          },
          "metadata": {},
          "execution_count": 56
        }
      ]
    },
    {
      "cell_type": "code",
      "source": [
        "#check that car gets up to speed by corner 1\n",
        "vAMph, ta, distA, motiveF = calculateAccel(0,mpsToMph(calculateMaxCornerSpeed(50)))\n",
        "if (distA[-1] < 250):\n",
        "  print('Car up to speed by corner 1')\n"
      ],
      "metadata": {
        "colab": {
          "base_uri": "https://localhost:8080/"
        },
        "id": "c3XroMswj90p",
        "outputId": "df7b46b0-9114-4860-a180-c7a3faeb33ff"
      },
      "execution_count": 57,
      "outputs": [
        {
          "output_type": "stream",
          "name": "stdout",
          "text": [
            "Car up to speed by corner 1\n"
          ]
        }
      ]
    },
    {
      "cell_type": "code",
      "source": [
        "#energy calculations\n",
        "def calculateEnergyUse():\n",
        "\n",
        "  energy = 0\n",
        "\n",
        "  def calculatePartStraightEnergy():\n",
        "    #half straight\n",
        "    #initial guess\n",
        "    vMid3 = 100\n",
        "    distA3 = [0,0]\n",
        "    distD3 = [0,0]\n",
        "\n",
        "    while distA3[-1] + distD3[-1] <= (straightDist/2):\n",
        "      vAMph, ta, distA3, motiveF = calculateAccel(0,vMid3)\n",
        "      vDMph, td, distD3 = calculateDeccel(vMid3, mpsToMph(calculateMaxCornerSpeed(50)))\n",
        "\n",
        "      #increment vMid\n",
        "      vMid3 += res\n",
        "\n",
        "    #get distance steps instead of cumsum\n",
        "    distA3[1:] -= distA3[:-1].copy()\n",
        "    distD3[1:] -= distD3[:-1].copy()\n",
        "\n",
        "    aWd = np.sum(np.multiply(motiveF, distA3))\n",
        "    regWd = np.sum((mass * g * uSlide) * distD3)\n",
        "    motorWd = ((aWd)/motorEffic) - (regWd * regEffic)\n",
        "    energyUse = motorWd / (1000 * 3600)\n",
        "\n",
        "    return energyUse\n",
        "  \n",
        "  #add energy from part straight\n",
        "  energy += calculatePartStraightEnergy()\n",
        "  \n",
        "  #add energy from 19 laps and import variables for mid straight 1\n",
        "  lapTime, vMid, vMid2, lapEnergy = fastestLap()\n",
        "  energy += lapEnergy * 19\n",
        "  vAMph, ta, distA, motiveF = calculateAccel(mpsToMph(calculateMaxCornerSpeed(50)),vMid)\n",
        "  vDMph, td, distD = calculateDeccel(vMid, mpsToMph(calculateMaxCornerSpeed(25)))\n",
        "\n",
        "  #find finish-line velocity\n",
        "  vMid4 = 65\n",
        "  distA4 = [0,0]\n",
        "  while distA4[-1] <= 25:\n",
        "    vAMph4, ta4, distA4, motiveF4 = calculateAccel(mpsToMph(calculateMaxCornerSpeed(25)),vMid4)\n",
        "    #increment vMid4\n",
        "    vMid4 += res\n",
        "\n",
        "  #get distance steps instead of cumsum\n",
        "  distA[1:] -= distA[:-1].copy()\n",
        "  distD[1:] -= distD[:-1].copy()\n",
        "  distA4[1:] -= distA4[:-1].copy()\n",
        "\n",
        "  #sum up energies\n",
        "  #accelleration\n",
        "  aWd = np.sum(np.multiply(motiveF, distA)) + np.sum(np.multiply(motiveF4, distA4))\n",
        "  #corners\n",
        "  cornerWd = (calculateMotiveFCorner(calculateMaxCornerSpeed(50), 50)* math.pi * 50) + (calculateMotiveFCorner(calculateMaxCornerSpeed(25), 25)* math.pi * 25)\n",
        "  #for deceleration (power reclaimed)\n",
        "  regWd = np.sum((mass * g * uSlide) * distD)\n",
        "  motorWd = ((aWd + cornerWd)/motorEffic) - (regWd * regEffic)\n",
        "  energy += motorWd / (1000 * 3600)\n",
        "\n",
        "  return energy\n",
        "\n",
        "print(f'Total energy: {round(calculateEnergyUse(),2)}kWh')\n"
      ],
      "metadata": {
        "colab": {
          "base_uri": "https://localhost:8080/"
        },
        "id": "cQeyvRv1-1op",
        "outputId": "6c0ffb18-0737-4cdf-c0b8-ec4f7d2f85e6"
      },
      "execution_count": 58,
      "outputs": [
        {
          "output_type": "stream",
          "name": "stdout",
          "text": [
            "s1 xcor: 76.4602210071385\n",
            "s2 xcor: 440.1916060346269\n",
            "Fastest lap: 33.744 seconds\n",
            "vMid: 120.29999999999686, vMid2: 118.49999999999696\n",
            "Lap energy: 0.46kWh\n",
            "Total energy: 9.3kWh\n"
          ]
        }
      ]
    },
    {
      "cell_type": "code",
      "source": [
        ""
      ],
      "metadata": {
        "id": "yM764wpdqGD5"
      },
      "execution_count": 58,
      "outputs": []
    }
  ]
}